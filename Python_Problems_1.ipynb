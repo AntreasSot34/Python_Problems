{
 "cells": [
  {
   "cell_type": "code",
   "execution_count": null,
   "id": "f8039c8e",
   "metadata": {},
   "outputs": [],
   "source": [
    "#Antreas Sotiriou Python Problems 1"
   ]
  },
  {
   "cell_type": "code",
   "execution_count": 10,
   "id": "0fd95fe3",
   "metadata": {},
   "outputs": [
    {
     "name": "stdout",
     "output_type": "stream",
     "text": [
      "Enter the radius of the circle: 3\n",
      "The area of the circle with radius 3.0 is 28.27\n"
     ]
    }
   ],
   "source": [
    "#Write a Python program that takes the radius of a circle as input from the user and\n",
    "#calculates its area using the math module.\n",
    "import math\n",
    "\n",
    "# Get the radius from the user\n",
    "radius = float(input(\"Enter the radius of the circle: \"))\n",
    "\n",
    "# Calculate the area of the circle\n",
    "area = math.pi * (radius ** 2)\n",
    "\n",
    "# Display the area\n",
    "print(f\"The area of the circle with radius {radius} is {area:.2f}\")\n"
   ]
  },
  {
   "cell_type": "code",
   "execution_count": 12,
   "id": "d80398b2",
   "metadata": {},
   "outputs": [
    {
     "name": "stdout",
     "output_type": "stream",
     "text": [
      "Enter your age: 13\n",
      "You are not eligible to vote!\n"
     ]
    }
   ],
   "source": [
    "# Create a Python program that asks the user for their age and then prints whether they are\n",
    "# eligible to vote (18 or older) or not.\n",
    "\n",
    "age = int(input(\"Enter your age: \"))\n",
    "\n",
    "# Check if the user is eligible to vote\n",
    "if age >= 18:\n",
    "    print(\"You are eligible to vote.\")\n",
    "else:\n",
    "    print(\"You are not eligible to vote!\")\n"
   ]
  },
  {
   "cell_type": "code",
   "execution_count": 16,
   "id": "3c52b4a9",
   "metadata": {},
   "outputs": [
    {
     "name": "stdout",
     "output_type": "stream",
     "text": [
      "Enter a number: 0\n",
      "Num is zero 0\n"
     ]
    }
   ],
   "source": [
    "# Write a Python program that takes a number as input and determines if it's positive,\n",
    "# negative, or zero using conditional statements.\n",
    "\n",
    "num = int(input(\"Enter a number: \"))\n",
    "if num < 0:\n",
    "    print(\"Num is negative\")\n",
    "elif num > 0:\n",
    "    print(\"Num is positive\")\n",
    "else:\n",
    "    print(\"Num is zero 0\")"
   ]
  },
  {
   "cell_type": "code",
   "execution_count": 19,
   "id": "f7702d55",
   "metadata": {},
   "outputs": [
    {
     "name": "stdout",
     "output_type": "stream",
     "text": [
      "Enter your test score: 50\n",
      "Your grade is: F\n"
     ]
    }
   ],
   "source": [
    "# Write a Python program that asks the user for their score on a test and prints their letter\n",
    "# grade (A, B, C, D, or F) based on the following scale: 90-100: A, 80-89: B, 70-79: C, 60-\n",
    "# 69: D, below 60: F.\n",
    "score = int(input(\"Enter your test score: \"))\n",
    "if 90 <= score <= 100:\n",
    "    grade = 'A'\n",
    "elif 80 <= score <= 89:\n",
    "    grade = 'B'\n",
    "elif 70 <= score <= 79:\n",
    "    grade = 'C'\n",
    "elif 60 <= score <= 69:\n",
    "    grade = 'D'\n",
    "else:\n",
    "    grade = 'F'\n",
    "print(f\"Your grade is: {grade}\")"
   ]
  },
  {
   "cell_type": "code",
   "execution_count": 21,
   "id": "f78c1af2",
   "metadata": {},
   "outputs": [
    {
     "name": "stdout",
     "output_type": "stream",
     "text": [
      "Enter the first number: 3\n",
      "Enter the second number: 2\n",
      "Enter an operator (+, -, *, /): -\n",
      "The result is: 1.0\n"
     ]
    }
   ],
   "source": [
    "# Write a Python program that asks the user for two numbers and an operator \n",
    "# (+, -, *, /) and\n",
    "# performs the corresponding calculation using conditional statements\n",
    "\n",
    "# Get the first number from the user\n",
    "num1 = float( input(\"Enter the first number: \") )\n",
    "\n",
    "# Get the second number from the user\n",
    "num2 = float( input(\"Enter the second number: \") )\n",
    "\n",
    "# Get the operator from the user\n",
    "operator = input(\"Enter an operator (+, -, *, /): \")\n",
    "\n",
    "# Perform the calculation based on the operator\n",
    "if operator == '+':\n",
    "    result = num1 + num2\n",
    "elif operator == '-':\n",
    "    result = num1 - num2\n",
    "elif operator == '*':\n",
    "    result = num1 * num2\n",
    "elif operator == '/':\n",
    "    if num2 != 0:\n",
    "        result = num1 / num2\n",
    "    else:\n",
    "        result = \"Error: Division by zero is not allowed.\"\n",
    "else:\n",
    "    result = \"Error: Invalid operator.\"\n",
    "\n",
    "# Print the result as the variable result is in the brankets\n",
    "print(f\"The result is: {result}\")\n"
   ]
  },
  {
   "cell_type": "code",
   "execution_count": 22,
   "id": "4e80dc1a",
   "metadata": {},
   "outputs": [
    {
     "name": "stdout",
     "output_type": "stream",
     "text": [
      "Enter a year: 1024\n",
      "1024 is a leap year.\n"
     ]
    }
   ],
   "source": [
    "#Write a Python program that takes a year as input and determines if it's a leap year. (A\n",
    "#leap year is divisible by 4, but not by 100 unless it's also divisible by 400.)\n",
    "# Get the year from the user\n",
    "\n",
    "year = int(input(\"Enter a year: \"))\n",
    "\n",
    "# Determine if the year is a leap year\n",
    "if (year % 4 == 0 and year % 100 != 0) or (year % 400 == 0):\n",
    "    print(f\"{year} is a leap year.\")\n",
    "else:\n",
    "    print(f\"{year} is not a leap year.\")\n"
   ]
  },
  {
   "cell_type": "code",
   "execution_count": 24,
   "id": "360eb1d8",
   "metadata": {},
   "outputs": [
    {
     "name": "stdout",
     "output_type": "stream",
     "text": [
      "Enter your user-name: antreas\n",
      "Enter a language (English, Spanish, French): Spanish\n",
      "¡Hola, antreas!\n"
     ]
    }
   ],
   "source": [
    "# Write a Python program that asks the user for their name and a language (\"English,\"\n",
    "# \"Spanish,\" or \"French\"). If the language is recognized, print a greeting in that language.\n",
    "# Otherwise, print \"I don't know that language.\"\n",
    "\n",
    "# Get the user's name\n",
    "name = input(\"Enter your user-name: \")\n",
    "\n",
    "# Get the user's preferred language\n",
    "language = input(\"Enter a language (English, Spanish, French): \")\n",
    "\n",
    "# Print a greeting based on the selected language\n",
    "# lower function takes a string and output each uppercase to lowercase letters\n",
    "if language.lower() == \"english\":\n",
    "    print(f\"Hello, {name}!\")\n",
    "elif language.lower() == \"spanish\":\n",
    "    print(f\"¡Hola, {name}!\")\n",
    "elif language.lower() == \"french\":\n",
    "    print(f\"Bonjour, {name}!\")\n",
    "else:\n",
    "    print(\"I don't know that language.\")\n"
   ]
  },
  {
   "cell_type": "code",
   "execution_count": 26,
   "id": "f4cdf4c9",
   "metadata": {},
   "outputs": [
    {
     "name": "stdout",
     "output_type": "stream",
     "text": [
      "Enter the price of the {i}item: 1\n",
      "Do you want to add another item? (yes/no): yes\n",
      "Enter the price of the {i}item: 2\n",
      "Do you want to add another item? (yes/no): yes\n",
      "Enter the price of the {i}item: 3\n",
      "Do you want to add another item? (yes/no): no\n",
      "The total cost of your shopping cart is: $6.00\n"
     ]
    }
   ],
   "source": [
    "# Write a Python program that calculates the total cost of a shopping cart. Ask the user for\n",
    "# the price of each item and whether they want to continue adding items. Calculate the sum\n",
    "# of the prices and display the total cost.\n",
    "\n",
    "# Initialize the total cost to 0\n",
    "total_cost = 0.0\n",
    "i = 1\n",
    "while True:\n",
    "    # Ask the user for the price of the item\n",
    "    price = float(input(\"Enter the price of the {i}item: \"))\n",
    "    \n",
    "    # Add the price to the total cost\n",
    "    total_cost += price\n",
    "    \n",
    "    # Ask the user if they want to add another item\n",
    "    continue_shopping = input(\"Do you want to add another item? (yes/no): \")\n",
    "    i+=1\n",
    "    # Check if the user wants to stop adding items\n",
    "    if continue_shopping.lower() != 'yes':\n",
    "        break\n",
    "\n",
    "# Display the total cost in 2 float point number\n",
    "print(f\"The total cost of your shopping cart is: ${total_cost:.2f}\")\n"
   ]
  },
  {
   "cell_type": "code",
   "execution_count": 31,
   "id": "424738d7",
   "metadata": {},
   "outputs": [
    {
     "name": "stdout",
     "output_type": "stream",
     "text": [
      "Enter a string: Antreas\n",
      "The reversed string is: saertnA\n"
     ]
    }
   ],
   "source": [
    "# Write a Python program that takes a string as input and prints it in reverse order using a\n",
    "# loop.\n",
    "\n",
    "# Get the string from the user\n",
    "string = input(\"Enter a string: \")\n",
    "\n",
    "# Initialize an empty string for the reversed string\n",
    "reversed_string = \"\"\n",
    "\n",
    "# Loop through the original string in reverse order\n",
    "for char in string:\n",
    "    reversed_string =  char + reversed_string \n",
    "\n",
    "# Print the reversed string\n",
    "print(\"The reversed string is:\", reversed_string)\n"
   ]
  },
  {
   "cell_type": "code",
   "execution_count": 32,
   "id": "1aecd368",
   "metadata": {},
   "outputs": [
    {
     "name": "stdout",
     "output_type": "stream",
     "text": [
      "Guess the number between 1 and 100: 50\n",
      "Lower! Try again.\n",
      "Guess the number between 1 and 100: 30\n",
      "Lower! Try again.\n",
      "Guess the number between 1 and 100: 20\n",
      "Higher! Try again.\n",
      "Guess the number between 1 and 100: 22\n",
      "Higher! Try again.\n",
      "Guess the number between 1 and 100: 23\n",
      "Higher! Try again.\n",
      "Guess the number between 1 and 100: 25\n",
      "Higher! Try again.\n",
      "Guess the number between 1 and 100: 26\n",
      "Higher! Try again.\n",
      "Guess the number between 1 and 100: 27\n",
      "Congratulations! You guessed the number 27 correctly.\n"
     ]
    }
   ],
   "source": [
    "import random\n",
    "\n",
    "# Generate a random number between 1 and 100\n",
    "random_number = random.randint(1, 100)\n",
    "\n",
    "# Initialize the guess variable to a non-matching value\n",
    "guess = None\n",
    "\n",
    "# Start the guessing loop\n",
    "while guess != random_number:\n",
    "    # Get the user's guess\n",
    "    guess = int(input(\"Guess the number between 1 and 100: \"))\n",
    "    \n",
    "    # Provide feedback\n",
    "    if guess < random_number:\n",
    "        print(\"Higher! Try again.\")\n",
    "    elif guess > random_number:\n",
    "        print(\"Lower! Try again.\")\n",
    "    else:\n",
    "        print(f\"Congratulations! You guessed the number {random_number} correctly.\")\n"
   ]
  },
  {
   "cell_type": "code",
   "execution_count": null,
   "id": "923fbf5f",
   "metadata": {},
   "outputs": [],
   "source": []
  }
 ],
 "metadata": {
  "kernelspec": {
   "display_name": "Python 3 (ipykernel)",
   "language": "python",
   "name": "python3"
  },
  "language_info": {
   "codemirror_mode": {
    "name": "ipython",
    "version": 3
   },
   "file_extension": ".py",
   "mimetype": "text/x-python",
   "name": "python",
   "nbconvert_exporter": "python",
   "pygments_lexer": "ipython3",
   "version": "3.11.5"
  }
 },
 "nbformat": 4,
 "nbformat_minor": 5
}

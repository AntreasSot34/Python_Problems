{
 "cells": [
  {
   "cell_type": "code",
   "execution_count": null,
   "id": "76647564",
   "metadata": {},
   "outputs": [],
   "source": [
    "# Python Problems 3\n",
    "\"\"\"\n",
    "Exercise Set 1: Input/Output & Conditions\n",
    "Exercise Set 2: Loops\n",
    "Exercise Set 3: Lists & Dictionaries\n",
    "Exercise Set 4: Functions\n",
    "Exercise Set 5: File I/O\n",
    "BONUS: *Quote of the Day Generator\n",
    "\"\"\""
   ]
  },
  {
   "cell_type": "code",
   "execution_count": 1,
   "id": "8a70da52",
   "metadata": {},
   "outputs": [
    {
     "name": "stdout",
     "output_type": "stream",
     "text": [
      "Enter your age:40\n",
      "You are middle-aged.\n"
     ]
    }
   ],
   "source": [
    "# Age Classifier\n",
    "age = int(input(\"Enter your age:\"))\n",
    "# Age Classification\n",
    "if age <13:\n",
    "    print(\"You are a child.\")\n",
    "elif 13 <= age < 20:\n",
    "    print(\"You are a teenager.\")\n",
    "elif 20 <= age < 30:\n",
    "    print(\"You are a young adult.\")\n",
    "elif 30 <= age < 50:\n",
    "    print(\"You are middle-aged.\")\n",
    "elif 50 <= age < 65:\n",
    "    print(\"You are an adult.\")\n",
    "else:\n",
    "    print(\"You are a senior.\")"
   ]
  },
  {
   "cell_type": "code",
   "execution_count": 2,
   "id": "4d41a78e",
   "metadata": {},
   "outputs": [
    {
     "name": "stdout",
     "output_type": "stream",
     "text": [
      "Enter your height in meters: 1.86\n",
      "Enter your weight in kilograms: 85\n",
      "Your BMI is 24.57. You have a normal weight.\n"
     ]
    }
   ],
   "source": [
    "# BMI Calculator\n",
    "# Ask for height and weight\n",
    "height = float(input(\"Enter your height in meters: \"))\n",
    "weight = float(input(\"Enter your weight in kilograms: \"))\n",
    "\n",
    "# Calculate BMI\n",
    "bmi = weight / (height ** 2)\n",
    "\n",
    "# Categorize BMI\n",
    "if bmi < 18.5:\n",
    "    print(f\"Your BMI is {bmi:.2f}. You are underweight.\")\n",
    "elif 18.5 <= bmi < 24.9:\n",
    "    print(f\"Your BMI is {bmi:.2f}. You have a normal weight.\")\n",
    "elif 25 <= bmi < 29.9:\n",
    "    print(f\"Your BMI is {bmi:.2f}. You are overweight.\")\n",
    "else:\n",
    "    print(f\"Your BMI is {bmi:.2f}. You are obese.\")\n"
   ]
  },
  {
   "cell_type": "code",
   "execution_count": null,
   "id": "0050f9af",
   "metadata": {},
   "outputs": [],
   "source": [
    "# Password Strength Checker\n",
    "# Ask for a password\n",
    "password = input(\"Create a password: \")\n",
    "\n",
    "# Check password strength\n",
    "if len(password) < 8:\n",
    "    print(\"Password is too short. It must be at least 8 characters long.\")\n",
    "elif not any(char.isdigit() for char in password):\n",
    "    print(\"Password should contain at least one number.\")\n",
    "elif not any(char.isupper() for char in password):\n",
    "    print(\"Password should contain at least one uppercase letter.\")\n",
    "elif not any(char.islower() for char in password):\n",
    "    print(\"Password should contain at least one lowercase letter.\")\n",
    "elif not any(char in \"!@#$%^&*()-_+=\" for char in password):\n",
    "    print(\"Password should contain at least one special character.\")\n",
    "else:\n",
    "    print(\"Password is strong.\")\n",
    "\n",
    "    "
   ]
  },
  {
   "cell_type": "code",
   "execution_count": 3,
   "id": "b6e42574",
   "metadata": {},
   "outputs": [
    {
     "name": "stdout",
     "output_type": "stream",
     "text": [
      "Enter a number to get its multiplication table: 4\n",
      "4 x 1 = 4\n",
      "4 x 2 = 8\n",
      "4 x 3 = 12\n",
      "4 x 4 = 16\n",
      "4 x 5 = 20\n",
      "4 x 6 = 24\n",
      "4 x 7 = 28\n",
      "4 x 8 = 32\n",
      "4 x 9 = 36\n",
      "4 x 10 = 40\n"
     ]
    }
   ],
   "source": [
    "# Multiple Table\n",
    "# Ask for a number\n",
    "num = int(input(\"Enter a number to get its multiplication table: \"))\n",
    "\n",
    "# Print multiplication table\n",
    "for i in range(1, 11):\n",
    "    print(f\"{num} x {i} = {num * i}\")\n"
   ]
  },
  {
   "cell_type": "code",
   "execution_count": 4,
   "id": "58093b39",
   "metadata": {
    "scrolled": true
   },
   "outputs": [
    {
     "name": "stdout",
     "output_type": "stream",
     "text": [
      "Enter a sentence: Antreas Sotiriou is a Basketball Player\n",
      "There are 6 words in the sentence.\n"
     ]
    }
   ],
   "source": [
    "# Word Counter\n",
    "# Ask for a sentence\n",
    "sentence = input(\"Enter a sentence: \")\n",
    "\n",
    "# Count words\n",
    "words = sentence.split()\n",
    "word_count = len(words)\n",
    "\n",
    "print(f\"There are {word_count} words in the sentence.\")\n"
   ]
  },
  {
   "cell_type": "code",
   "execution_count": null,
   "id": "24118c20",
   "metadata": {},
   "outputs": [],
   "source": [
    "# Number Guessing Game\n",
    "# \n",
    "import random\n",
    "\n",
    "# Generate a random number 1 - 99\n",
    "random_number = random.randint(1, 100)\n",
    "\n",
    "# Number of attempts\n",
    "attempts = 0\n",
    "\n",
    "while attempts < 7:\n",
    "    guess = int(input(\"Guess the number (between 1 and 100): \"))\n",
    "    attempts += 1\n",
    "    if guess < random_number:\n",
    "        print(\"Higher!\")\n",
    "    elif guess > random_number:\n",
    "        print(\"Lower!\")\n",
    "    else:\n",
    "        print(f\"Congratulations! You've guessed the number in {attempts} attempts.\")\n",
    "        break\n",
    "else:\n",
    "    print(f\"Sorry, you've used all attempts. The number was {random_number}.\")\n"
   ]
  },
  {
   "cell_type": "code",
   "execution_count": 1,
   "id": "c3d1301b",
   "metadata": {},
   "outputs": [
    {
     "name": "stdout",
     "output_type": "stream",
     "text": [
      "\n",
      "To-Do List Menu\n",
      "1. Add item\n",
      "2. Remove item\n",
      "3. View list\n",
      "4. Exit\n",
      "Enter your choice: 5\n",
      "Invalid choice! Please select a valid option.\n",
      "\n",
      "To-Do List Menu\n",
      "1. Add item\n",
      "2. Remove item\n",
      "3. View list\n",
      "4. Exit\n",
      "Enter your choice: 5\n",
      "Invalid choice! Please select a valid option.\n",
      "\n",
      "To-Do List Menu\n",
      "1. Add item\n",
      "2. Remove item\n",
      "3. View list\n",
      "4. Exit\n",
      "Enter your choice: 4\n",
      "Exiting To-Do List.\n"
     ]
    }
   ],
   "source": [
    "# To-Do List\n",
    "\n",
    "to_do_list = []\n",
    "\n",
    "# Display Menu\n",
    "while True:\n",
    "    print(\"\\nTo-Do List Menu\")\n",
    "    print(\"1. Add item\")\n",
    "    print(\"2. Remove item\")\n",
    "    print(\"3. View list\")\n",
    "    print(\"4. Exit\")\n",
    "    \n",
    "    choice = int(input(\"Enter your choice: \"))\n",
    "    \n",
    "    if choice == 1:\n",
    "        item = input(\"Enter item to add: \")\n",
    "        to_do_list.append(item)\n",
    "        print(f\"'{item}' has been added to the list.\")\n",
    "    elif choice == 2:\n",
    "        item = input(\"Enter item to remove: \")\n",
    "        if item in to_do_list:\n",
    "            to_do_list.remove(item)\n",
    "            print(f\"'{item}' has been removed from the list.\")\n",
    "        else:\n",
    "            print(f\"'{item}' is not in the list.\")\n",
    "    elif choice == 3:\n",
    "        print(\"Your To-Do List:\")\n",
    "        for idx, item in enumerate(to_do_list, start=1):\n",
    "            print(f\"{idx}. {item}\")\n",
    "    elif choice == 4:\n",
    "        print(\"Exiting To-Do List.\")\n",
    "        break\n",
    "    else:\n",
    "        print(\"Invalid choice! Please select a valid option.\")\n"
   ]
  },
  {
   "cell_type": "markdown",
   "id": "1958bbc7",
   "metadata": {},
   "source": [
    "##### Word Frequency Counter\n",
    "# Ask for a sentence\n",
    "sentence = input(\"Enter a sentence: \")\n",
    "\n",
    "# Split sentence into words\n",
    "words = sentence.split()\n",
    "\n",
    "# Frequency dictionary\n",
    "word_freq = {}\n",
    "\n",
    "# Count frequency of each word\n",
    "for word in words:\n",
    "    word = word.lower()\n",
    "    if word in word_freq:\n",
    "        word_freq[word] += 1\n",
    "    else:\n",
    "        word_freq[word] = 1\n",
    "\n",
    "# Display word frequency\n",
    "print(\"Word Frequency:\")\n",
    "for word, freq in word_freq.items():\n",
    "    print(f\"{word}: {freq}\")\n"
   ]
  },
  {
   "cell_type": "code",
   "execution_count": 2,
   "id": "39efc5fd",
   "metadata": {},
   "outputs": [
    {
     "name": "stdout",
     "output_type": "stream",
     "text": [
      "\n",
      "Contact Book Menu\n",
      "1. Add contact\n",
      "2. Search contact\n",
      "3. Delete contact\n",
      "4. View all contacts\n",
      "5. Exit\n",
      "Enter your choice: 1\n",
      "Enter contact name: Sotiris Sotiriou\n",
      "Enter phone number: 99827383\n",
      "Contact 'Sotiris Sotiriou' has been added.\n",
      "\n",
      "Contact Book Menu\n",
      "1. Add contact\n",
      "2. Search contact\n",
      "3. Delete contact\n",
      "4. View all contacts\n",
      "5. Exit\n",
      "Enter your choice: 5\n",
      "Exiting Contact Book.\n"
     ]
    }
   ],
   "source": [
    "#Contact Book Dictionary\n",
    "\n",
    "contacts = {}\n",
    "\n",
    "# Display Menu\n",
    "while True:\n",
    "    print(\"\\nContact Book Menu\")\n",
    "    print(\"1. Add contact\")\n",
    "    print(\"2. Search contact\")\n",
    "    print(\"3. Delete contact\")\n",
    "    print(\"4. View all contacts\")\n",
    "    print(\"5. Exit\")\n",
    "    \n",
    "    choice = int(input(\"Enter your choice: \"))\n",
    "    \n",
    "    if choice == 1:\n",
    "        name = input(\"Enter contact name: \")\n",
    "        phone = input(\"Enter phone number: \")\n",
    "        contacts[name] = phone\n",
    "        print(f\"Contact '{name}' has been added.\")\n",
    "    elif choice == 2:\n",
    "        name = input(\"Enter contact name to search: \")\n",
    "        if name in contacts:\n",
    "            print(f\"{name}: {contacts[name]}\")\n",
    "        else:\n",
    "            print(f\"Contact '{name}' not found.\")\n",
    "    elif choice == 3:\n",
    "        name = input(\"Enter contact name to delete: \")\n",
    "        if name in contacts:\n",
    "            del contacts[name]\n",
    "            print(f\"Contact '{name}' has been deleted.\")\n",
    "        else:\n",
    "            print(f\"Contact '{name}' not found.\")\n",
    "    elif choice == 4:\n",
    "        print(\"All Contacts:\")\n",
    "        for name, phone in contacts.items():\n",
    "            print(f\"{name}: {phone}\")\n",
    "    elif choice == 5:\n",
    "        print(\"Exiting Contact Book.\")\n",
    "        break\n",
    "    else:\n",
    "        print(\"Invalid choice! Please select a valid option.\")\n"
   ]
  },
  {
   "cell_type": "code",
   "execution_count": 8,
   "id": "c40804b8",
   "metadata": {},
   "outputs": [
    {
     "name": "stdout",
     "output_type": "stream",
     "text": [
      "Enter the first number: 3\n",
      "Enter the second number: 2\n",
      "Enter the operation (+, -, *, /): *\n",
      "The result is: 6.0\n"
     ]
    }
   ],
   "source": [
    "# Calculator Functions\n",
    "# Define basic arithmetic functions\n",
    "def add(x, y):\n",
    "    return x + y\n",
    "\n",
    "def subtract(x, y):\n",
    "    return x - y\n",
    "\n",
    "def multiply(x, y):\n",
    "    return x * y\n",
    "\n",
    "def divide(x, y):\n",
    "    return x / y\n",
    "\n",
    "# Ask for two numbers\n",
    "num1 = float(input(\"Enter the first number: \"))\n",
    "num2 = float(input(\"Enter the second number: \"))\n",
    "\n",
    "# Ask for the operation\n",
    "operation = input(\"Enter the operation (+, -, *, /): \")\n",
    "\n",
    "# Perform the operation\n",
    "if operation == '+':\n",
    "    print(f\"The result is: {add(num1, num2)}\")\n",
    "elif operation == '-':\n",
    "    print(f\"The result is: {subtract(num1, num2)}\")\n",
    "elif operation == '*':\n",
    "    print(f\"The result is: {multiply(num1, num2)}\")\n",
    "elif operation == '/':\n",
    "    if num2 != 0:\n",
    "        print(f\"The result is: {divide(num1, num2)}\")\n",
    "    else:\n",
    "        print(\"Error: Division by zero.\")\n",
    "else:\n",
    "    print(\"Invalid operation.\")\n"
   ]
  },
  {
   "cell_type": "code",
   "execution_count": 3,
   "id": "f6b219e8",
   "metadata": {},
   "outputs": [
    {
     "name": "stdout",
     "output_type": "stream",
     "text": [
      "Enter a word or phrase: Ise foveri Ise foveri Ise\n",
      "'Ise foveri Ise foveri Ise' is not a palindrome.\n"
     ]
    }
   ],
   "source": [
    "# Palidrome Checker\n",
    "# Define a palindrome checker function\n",
    "def is_palindrome(s):\n",
    "    s = s.replace(\" \", \"\").lower()  # Remove spaces and convert to lower case\n",
    "    return s == s[::-1]\n",
    "\n",
    "# Ask for a word or phrase\n",
    "word_or_phrase = input(\"Enter a word or phrase: \")\n",
    "\n",
    "# Check if it's a palindrome\n",
    "if is_palindrome(word_or_phrase):\n",
    "    print(f\"'{word_or_phrase}' is a palindrome.\")\n",
    "else:\n",
    "    print(f\"'{word_or_phrase}' is not a palindrome.\")\n"
   ]
  },
  {
   "cell_type": "code",
   "execution_count": 4,
   "id": "5ac7f656",
   "metadata": {},
   "outputs": [
    {
     "name": "stdout",
     "output_type": "stream",
     "text": [
      "Enter a text: Antreas is my favourite friend.\n",
      "Words: 5, Sentences: 1, Unique Words: 5\n"
     ]
    }
   ],
   "source": [
    "# Text Analyzer\n",
    "import re\n",
    "\n",
    "# Define a text analyzer function\n",
    "def text_analyzer(text):\n",
    "    sentences = re.split(r'[.!?]', text)\n",
    "    sentences = list(filter(None, sentences))  # Remove empty strings\n",
    "    words = re.findall(r'\\w+', text)\n",
    "    unique_words = set(words)\n",
    "    \n",
    "    return len(words), len(sentences), len(unique_words)\n",
    "\n",
    "# Ask for a text\n",
    "text = input(\"Enter a text: \")\n",
    "\n",
    "# Analyze the text\n",
    "word_count, sentence_count, unique_word_count = text_analyzer(text)\n",
    "\n",
    "# Display results\n",
    "print(f\"Words: {word_count}, Sentences: {sentence_count}, Unique Words: {unique_word_count}\")\n"
   ]
  },
  {
   "cell_type": "code",
   "execution_count": 5,
   "id": "527075e0",
   "metadata": {},
   "outputs": [
    {
     "name": "stdout",
     "output_type": "stream",
     "text": [
      "\n",
      "Guestbook Menu\n",
      "1. Write a message\n",
      "2. Display messages\n",
      "3. Exit\n",
      "Enter your choice: 1\n",
      "Enter your message: I am who i say i ma\n",
      "Message saved to guestbook.\n",
      "\n",
      "Guestbook Menu\n",
      "1. Write a message\n",
      "2. Display messages\n",
      "3. Exit\n",
      "Enter your choice: 2\n",
      "Guestbook Messages:\n",
      "I am who i say i ma\n",
      "\n",
      "\n",
      "Guestbook Menu\n",
      "1. Write a message\n",
      "2. Display messages\n",
      "3. Exit\n",
      "Enter your choice: 3\n",
      "Exiting Guestbook.\n"
     ]
    }
   ],
   "source": [
    "# Guestbook\n",
    "# Write a message to guestbook\n",
    "def write_guestbook(message):\n",
    "    with open(\"guestbook.txt\", \"a\") as file:\n",
    "        file.write(message + \"\\n\")\n",
    "    print(\"Message saved to guestbook.\")\n",
    "\n",
    "# Display messages from guestbook\n",
    "def display_guestbook():\n",
    "    try:\n",
    "        with open(\"guestbook.txt\", \"r\") as file:\n",
    "            content = file.read()\n",
    "            print(\"Guestbook Messages:\")\n",
    "            print(content)\n",
    "    except FileNotFoundError:\n",
    "        print(\"No messages in guestbook.\")\n",
    "\n",
    "# Menu\n",
    "while True:\n",
    "    print(\"\\nGuestbook Menu\")\n",
    "    print(\"1. Write a message\")\n",
    "    print(\"2. Display messages\")\n",
    "    print(\"3. Exit\")\n",
    "    \n",
    "    choice = int(input(\"Enter your choice: \"))\n",
    "    \n",
    "    if choice == 1:\n",
    "        message = input(\"Enter your message: \")\n",
    "        write_guestbook(message)\n",
    "    elif choice == 2:\n",
    "        display_guestbook()\n",
    "    elif choice == 3:\n",
    "        print(\"Exiting Guestbook.\")\n",
    "        break\n",
    "    else:\n",
    "        print(\"Invalid choice! Please select a valid option.\")\n"
   ]
  },
  {
   "cell_type": "code",
   "execution_count": 7,
   "id": "d6a710fe",
   "metadata": {},
   "outputs": [
    {
     "ename": "FileNotFoundError",
     "evalue": "[Errno 2] No such file or directory: 'textfile.txt'",
     "output_type": "error",
     "traceback": [
      "\u001b[1;31m---------------------------------------------------------------------------\u001b[0m",
      "\u001b[1;31mFileNotFoundError\u001b[0m                         Traceback (most recent call last)",
      "Cell \u001b[1;32mIn[7], line 32\u001b[0m\n\u001b[0;32m     30\u001b[0m \u001b[38;5;66;03m# Process the text file\u001b[39;00m\n\u001b[0;32m     31\u001b[0m filename \u001b[38;5;241m=\u001b[39m \u001b[38;5;124m\"\u001b[39m\u001b[38;5;124mtextfile.txt\u001b[39m\u001b[38;5;124m\"\u001b[39m\n\u001b[1;32m---> 32\u001b[0m text_file_processor(filename)\n",
      "Cell \u001b[1;32mIn[7], line 7\u001b[0m, in \u001b[0;36mtext_file_processor\u001b[1;34m(filename)\u001b[0m\n\u001b[0;32m      6\u001b[0m \u001b[38;5;28;01mdef\u001b[39;00m \u001b[38;5;21mtext_file_processor\u001b[39m(filename):\n\u001b[1;32m----> 7\u001b[0m     \u001b[38;5;28;01mwith\u001b[39;00m \u001b[38;5;28mopen\u001b[39m(filename, \u001b[38;5;124m\"\u001b[39m\u001b[38;5;124mr\u001b[39m\u001b[38;5;124m\"\u001b[39m) \u001b[38;5;28;01mas\u001b[39;00m file:\n\u001b[0;32m      8\u001b[0m         text \u001b[38;5;241m=\u001b[39m file\u001b[38;5;241m.\u001b[39mread()\n\u001b[0;32m     10\u001b[0m     \u001b[38;5;66;03m# Count words\u001b[39;00m\n",
      "File \u001b[1;32m~\\anaconda3\\Lib\\site-packages\\IPython\\core\\interactiveshell.py:286\u001b[0m, in \u001b[0;36m_modified_open\u001b[1;34m(file, *args, **kwargs)\u001b[0m\n\u001b[0;32m    279\u001b[0m \u001b[38;5;28;01mif\u001b[39;00m file \u001b[38;5;129;01min\u001b[39;00m {\u001b[38;5;241m0\u001b[39m, \u001b[38;5;241m1\u001b[39m, \u001b[38;5;241m2\u001b[39m}:\n\u001b[0;32m    280\u001b[0m     \u001b[38;5;28;01mraise\u001b[39;00m \u001b[38;5;167;01mValueError\u001b[39;00m(\n\u001b[0;32m    281\u001b[0m         \u001b[38;5;124mf\u001b[39m\u001b[38;5;124m\"\u001b[39m\u001b[38;5;124mIPython won\u001b[39m\u001b[38;5;124m'\u001b[39m\u001b[38;5;124mt let you open fd=\u001b[39m\u001b[38;5;132;01m{\u001b[39;00mfile\u001b[38;5;132;01m}\u001b[39;00m\u001b[38;5;124m by default \u001b[39m\u001b[38;5;124m\"\u001b[39m\n\u001b[0;32m    282\u001b[0m         \u001b[38;5;124m\"\u001b[39m\u001b[38;5;124mas it is likely to crash IPython. If you know what you are doing, \u001b[39m\u001b[38;5;124m\"\u001b[39m\n\u001b[0;32m    283\u001b[0m         \u001b[38;5;124m\"\u001b[39m\u001b[38;5;124myou can use builtins\u001b[39m\u001b[38;5;124m'\u001b[39m\u001b[38;5;124m open.\u001b[39m\u001b[38;5;124m\"\u001b[39m\n\u001b[0;32m    284\u001b[0m     )\n\u001b[1;32m--> 286\u001b[0m \u001b[38;5;28;01mreturn\u001b[39;00m io_open(file, \u001b[38;5;241m*\u001b[39margs, \u001b[38;5;241m*\u001b[39m\u001b[38;5;241m*\u001b[39mkwargs)\n",
      "\u001b[1;31mFileNotFoundError\u001b[0m: [Errno 2] No such file or directory: 'textfile.txt'"
     ]
    }
   ],
   "source": [
    "# Text File Processor\n",
    "import re\n",
    "from collections import Counter\n",
    "\n",
    "# Text file processing\n",
    "def text_file_processor(filename):\n",
    "    with open(filename, \"r\") as file:\n",
    "        text = file.read()\n",
    "    \n",
    "    # Count words\n",
    "    words = re.findall(r'\\w+', text.lower())\n",
    "    word_count = len(words)\n",
    "    \n",
    "    # Count sentences\n",
    "    sentences = re.split(r'[.!?]', text)\n",
    "    sentence_count = len(list(filter(None, sentences)))  # Remove empty strings\n",
    "    \n",
    "    # Count unique words\n",
    "    unique_words = set(words)\n",
    "    unique_word_count = len(unique_words)\n",
    "    \n",
    "    # Find the most frequent word\n",
    "    word_freq = Counter(words)\n",
    "    most_frequent_word, frequency = word_freq.most_common(1)[0]\n",
    "    \n",
    "    # Display results\n",
    "    print(f\"Words: {word_count}, Sentences: {sentence_count}, Unique Words: {unique_word_count}\")\n",
    "    print(f\"Most Frequent Word: '{most_frequent_word}' with a frequency of {frequency}\")\n",
    "\n",
    "# Process the text file\n",
    "filename = \"textfile.txt\"\n",
    "text_file_processor(filename)\n"
   ]
  },
  {
   "cell_type": "code",
   "execution_count": 8,
   "id": "078e3511",
   "metadata": {},
   "outputs": [
    {
     "name": "stdout",
     "output_type": "stream",
     "text": [
      "Guess the number (1-100): 32\n",
      "Higher!\n",
      "Guess the number (1-100): 34\n",
      "Higher!\n",
      "Guess the number (1-100): 45\n",
      "Lower!\n",
      "Guess the number (1-100): 99\n",
      "Lower!\n"
     ]
    },
    {
     "ename": "KeyboardInterrupt",
     "evalue": "Interrupted by user",
     "output_type": "error",
     "traceback": [
      "\u001b[1;31m---------------------------------------------------------------------------\u001b[0m",
      "\u001b[1;31mKeyboardInterrupt\u001b[0m                         Traceback (most recent call last)",
      "Cell \u001b[1;32mIn[8], line 36\u001b[0m\n\u001b[0;32m     33\u001b[0m             update_high_score(\u001b[38;5;241m100\u001b[39m \u001b[38;5;241m-\u001b[39m attempts)\n\u001b[0;32m     34\u001b[0m             \u001b[38;5;28;01mbreak\u001b[39;00m\n\u001b[1;32m---> 36\u001b[0m guessing_game()\n",
      "Cell \u001b[1;32mIn[8], line 25\u001b[0m, in \u001b[0;36mguessing_game\u001b[1;34m()\u001b[0m\n\u001b[0;32m     22\u001b[0m attempts \u001b[38;5;241m=\u001b[39m \u001b[38;5;241m0\u001b[39m\n\u001b[0;32m     24\u001b[0m \u001b[38;5;28;01mwhile\u001b[39;00m \u001b[38;5;28;01mTrue\u001b[39;00m:\n\u001b[1;32m---> 25\u001b[0m     guess \u001b[38;5;241m=\u001b[39m \u001b[38;5;28mint\u001b[39m(\u001b[38;5;28minput\u001b[39m(\u001b[38;5;124m\"\u001b[39m\u001b[38;5;124mGuess the number (1-100): \u001b[39m\u001b[38;5;124m\"\u001b[39m))\n\u001b[0;32m     26\u001b[0m     attempts \u001b[38;5;241m+\u001b[39m\u001b[38;5;241m=\u001b[39m \u001b[38;5;241m1\u001b[39m\n\u001b[0;32m     27\u001b[0m     \u001b[38;5;28;01mif\u001b[39;00m guess \u001b[38;5;241m<\u001b[39m random_number:\n",
      "File \u001b[1;32m~\\anaconda3\\Lib\\site-packages\\ipykernel\\kernelbase.py:1202\u001b[0m, in \u001b[0;36mKernel.raw_input\u001b[1;34m(self, prompt)\u001b[0m\n\u001b[0;32m   1200\u001b[0m     msg \u001b[38;5;241m=\u001b[39m \u001b[38;5;124m\"\u001b[39m\u001b[38;5;124mraw_input was called, but this frontend does not support input requests.\u001b[39m\u001b[38;5;124m\"\u001b[39m\n\u001b[0;32m   1201\u001b[0m     \u001b[38;5;28;01mraise\u001b[39;00m StdinNotImplementedError(msg)\n\u001b[1;32m-> 1202\u001b[0m \u001b[38;5;28;01mreturn\u001b[39;00m \u001b[38;5;28mself\u001b[39m\u001b[38;5;241m.\u001b[39m_input_request(\n\u001b[0;32m   1203\u001b[0m     \u001b[38;5;28mstr\u001b[39m(prompt),\n\u001b[0;32m   1204\u001b[0m     \u001b[38;5;28mself\u001b[39m\u001b[38;5;241m.\u001b[39m_parent_ident[\u001b[38;5;124m\"\u001b[39m\u001b[38;5;124mshell\u001b[39m\u001b[38;5;124m\"\u001b[39m],\n\u001b[0;32m   1205\u001b[0m     \u001b[38;5;28mself\u001b[39m\u001b[38;5;241m.\u001b[39mget_parent(\u001b[38;5;124m\"\u001b[39m\u001b[38;5;124mshell\u001b[39m\u001b[38;5;124m\"\u001b[39m),\n\u001b[0;32m   1206\u001b[0m     password\u001b[38;5;241m=\u001b[39m\u001b[38;5;28;01mFalse\u001b[39;00m,\n\u001b[0;32m   1207\u001b[0m )\n",
      "File \u001b[1;32m~\\anaconda3\\Lib\\site-packages\\ipykernel\\kernelbase.py:1245\u001b[0m, in \u001b[0;36mKernel._input_request\u001b[1;34m(self, prompt, ident, parent, password)\u001b[0m\n\u001b[0;32m   1242\u001b[0m \u001b[38;5;28;01mexcept\u001b[39;00m \u001b[38;5;167;01mKeyboardInterrupt\u001b[39;00m:\n\u001b[0;32m   1243\u001b[0m     \u001b[38;5;66;03m# re-raise KeyboardInterrupt, to truncate traceback\u001b[39;00m\n\u001b[0;32m   1244\u001b[0m     msg \u001b[38;5;241m=\u001b[39m \u001b[38;5;124m\"\u001b[39m\u001b[38;5;124mInterrupted by user\u001b[39m\u001b[38;5;124m\"\u001b[39m\n\u001b[1;32m-> 1245\u001b[0m     \u001b[38;5;28;01mraise\u001b[39;00m \u001b[38;5;167;01mKeyboardInterrupt\u001b[39;00m(msg) \u001b[38;5;28;01mfrom\u001b[39;00m \u001b[38;5;28;01mNone\u001b[39;00m\n\u001b[0;32m   1246\u001b[0m \u001b[38;5;28;01mexcept\u001b[39;00m \u001b[38;5;167;01mException\u001b[39;00m:\n\u001b[0;32m   1247\u001b[0m     \u001b[38;5;28mself\u001b[39m\u001b[38;5;241m.\u001b[39mlog\u001b[38;5;241m.\u001b[39mwarning(\u001b[38;5;124m\"\u001b[39m\u001b[38;5;124mInvalid Message:\u001b[39m\u001b[38;5;124m\"\u001b[39m, exc_info\u001b[38;5;241m=\u001b[39m\u001b[38;5;28;01mTrue\u001b[39;00m)\n",
      "\u001b[1;31mKeyboardInterrupt\u001b[0m: Interrupted by user"
     ]
    }
   ],
   "source": [
    "# High Score Tracker\n",
    "import random\n",
    "\n",
    "# High Score Tracker\n",
    "def update_high_score(score, filename=\"highscore.txt\"):\n",
    "    try:\n",
    "        with open(filename, \"r\") as file:\n",
    "            high_score = int(file.read())\n",
    "    except FileNotFoundError:\n",
    "        high_score = 0\n",
    "\n",
    "    if score > high_score:\n",
    "        with open(filename, \"w\") as file:\n",
    "            file.write(str(score))\n",
    "        print(f\"New high score: {score}!\")\n",
    "    else:\n",
    "        print(f\"Your score: {score}. High score remains: {high_score}.\")\n",
    "\n",
    "# Simple guessing game\n",
    "def guessing_game():\n",
    "    random_number = random.randint(1, 100)\n",
    "    attempts = 0\n",
    "\n",
    "    while True:\n",
    "        guess = int(input(\"Guess the number (1-100): \"))\n",
    "        attempts += 1\n",
    "        if guess < random_number:\n",
    "            print(\"Higher!\")\n",
    "        elif guess > random_number:\n",
    "            print(\"Lower!\")\n",
    "        else:\n",
    "            print(f\"Congratulations! You guessed the number in {attempts} attempts.\")\n",
    "            update_high_score(100 - attempts)\n",
    "            break\n",
    "\n",
    "guessing_game()\n"
   ]
  },
  {
   "cell_type": "code",
   "execution_count": null,
   "id": "38ab7790",
   "metadata": {},
   "outputs": [],
   "source": [
    "# Quote of the Day Generator\n",
    "import random\n",
    "\n",
    "# Quote of the Day Generator\n",
    "def quote_of_the_day(filename=\"quotes.txt\"):\n",
    "    try:\n",
    "        with open(filename, \"r\") as file:\n",
    "            quotes = file.readlines()\n",
    "        quote = random.choice(quotes).strip()\n",
    "        print(f\"Quote of the Day: '{quote}'\")\n",
    "    except FileNotFoundError:\n",
    "        print(\"Quote file not found.\")\n",
    "\n",
    "quote_of_the_day()\n"
   ]
  },
  {
   "cell_type": "code",
   "execution_count": null,
   "id": "945acf44",
   "metadata": {},
   "outputs": [],
   "source": []
  }
 ],
 "metadata": {
  "kernelspec": {
   "display_name": "Python 3 (ipykernel)",
   "language": "python",
   "name": "python3"
  },
  "language_info": {
   "codemirror_mode": {
    "name": "ipython",
    "version": 3
   },
   "file_extension": ".py",
   "mimetype": "text/x-python",
   "name": "python",
   "nbconvert_exporter": "python",
   "pygments_lexer": "ipython3",
   "version": "3.11.5"
  }
 },
 "nbformat": 4,
 "nbformat_minor": 5
}

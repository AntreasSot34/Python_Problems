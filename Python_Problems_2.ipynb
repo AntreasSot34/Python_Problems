{
 "cells": [
  {
   "cell_type": "code",
   "execution_count": 1,
   "id": "b985a009",
   "metadata": {},
   "outputs": [],
   "source": [
    "# Antreas Sotiriou Python Problems 2"
   ]
  },
  {
   "cell_type": "code",
   "execution_count": 2,
   "id": "aae2610d",
   "metadata": {},
   "outputs": [
    {
     "data": {
      "text/plain": [
       "\"\\nA brief overview of Python lists, dictionaries, and tuples—fundamental data structures that play a crucial role in organizing and manipulating the data we'll be working with in our upcoming machine learning projects.\\n\\nFor example, lists are essential for storing sequences of data points or features, dictionaries allow us to efficiently look up information based on keys, and tuples provide a convenient way to group related data elements together. Understanding these data structures will be key to your success in this course.\\n\""
      ]
     },
     "execution_count": 2,
     "metadata": {},
     "output_type": "execute_result"
    }
   ],
   "source": [
    "\"\"\"\n",
    "A brief overview of Python lists, dictionaries, and tuples—fundamental data structures that play a crucial role in organizing and manipulating the data we'll be working with in our upcoming machine learning projects.\n",
    "\n",
    "For example, lists are essential for storing sequences of data points or features, dictionaries allow us to efficiently look up information based on keys, and tuples provide a convenient way to group related data elements together. Understanding these data structures will be key to your success in this course.\n",
    "\"\"\""
   ]
  },
  {
   "cell_type": "code",
   "execution_count": 3,
   "id": "1f33061b",
   "metadata": {},
   "outputs": [
    {
     "name": "stdout",
     "output_type": "stream",
     "text": [
      "4.0\n"
     ]
    }
   ],
   "source": [
    "#import math library\n",
    "import math\n",
    "print(math.sqrt(16))"
   ]
  },
  {
   "cell_type": "code",
   "execution_count": 4,
   "id": "cc727639",
   "metadata": {},
   "outputs": [
    {
     "name": "stdout",
     "output_type": "stream",
     "text": [
      "64\n",
      "71\n",
      "43\n"
     ]
    }
   ],
   "source": [
    "#import random library and choose random number from 0-100 or 1-100\n",
    "import random\n",
    "print( random.choice(range(100)) )\n",
    "print( random.randint(1,100) )\n",
    "#The FLOOR. \n",
    "#MATH function rounds a number down to the nearest integer or a multiple of specified significance, \n",
    "#with negative numbers rounding toward or away from zero depending on the mode.\n",
    "print( math.floor(random.random() * 100))\n",
    "#FLOOR.MATH(number, [significance], [mode])"
   ]
  },
  {
   "cell_type": "code",
   "execution_count": 5,
   "id": "6820a7fb",
   "metadata": {},
   "outputs": [
    {
     "name": "stdout",
     "output_type": "stream",
     "text": [
      "0\n",
      "1\n",
      "2\n",
      "3\n",
      "4\n",
      "5\n",
      "6\n",
      "7\n",
      "8\n",
      "9\n"
     ]
    }
   ],
   "source": [
    "# Range of (0 - 10 ) = 0 -9\n",
    "for i in range(10):\n",
    "    print(i)"
   ]
  },
  {
   "cell_type": "code",
   "execution_count": 6,
   "id": "3e69778f",
   "metadata": {},
   "outputs": [
    {
     "name": "stdout",
     "output_type": "stream",
     "text": [
      "0 A\n",
      "1 r\n",
      "2 s\n",
      "3 l\n",
      "4 a\n",
      "5 n\n"
     ]
    }
   ],
   "source": [
    "# (0,1,2,...,9) Counting the characters of the word name\n",
    "name = \"Arslan\"\n",
    "for i in range(len(name)):\n",
    "    print(i ,name[i])"
   ]
  },
  {
   "cell_type": "code",
   "execution_count": 7,
   "id": "1cd51392",
   "metadata": {},
   "outputs": [
    {
     "name": "stdout",
     "output_type": "stream",
     "text": [
      "Hello Arslan!\n",
      "Hello Lena!\n",
      "Hello Mahmoud!\n",
      "Hello Sotiriou!\n"
     ]
    }
   ],
   "source": [
    "#list\n",
    "names = [\"Arslan\",\"Mahmoud\",\"Sotiriou\",\"Lena\"]\n",
    "names.sort()\n",
    "names.append(\"Bill\")\n",
    "names.pop()\n",
    "#names.remove(1)\n",
    "for n in names:\n",
    "    print(f\"Hello {n}!\")\n",
    "    "
   ]
  },
  {
   "cell_type": "code",
   "execution_count": 8,
   "id": "0c848a79",
   "metadata": {},
   "outputs": [
    {
     "name": "stdout",
     "output_type": "stream",
     "text": [
      "Apple\n",
      "Banana\n",
      "Orange\n"
     ]
    }
   ],
   "source": [
    "#list\n",
    "# list is mutable, means dynamic\n",
    "fruits = [\"Apple\", \"Banana\" , \"Orange\"]\n",
    "number = len(fruits)\n",
    "for i in range(number):\n",
    "    print(fruits[i])"
   ]
  },
  {
   "cell_type": "code",
   "execution_count": 9,
   "id": "122801b1",
   "metadata": {},
   "outputs": [],
   "source": [
    "#Tuple\n",
    "# Is an ordered, immutable collection of elements that can hold different data types.\n",
    "Frouta = (\"apples\",\"oranges\",1,[1,2,3])\n",
    "#strings, integers , list\n",
    "# list inside a tuple can be modified"
   ]
  },
  {
   "cell_type": "code",
   "execution_count": 10,
   "id": "ba2b3d23",
   "metadata": {},
   "outputs": [
    {
     "data": {
      "text/plain": [
       "('apples', 'oranges', 1, [1, 2, 3])"
      ]
     },
     "execution_count": 10,
     "metadata": {},
     "output_type": "execute_result"
    }
   ],
   "source": [
    "Frouta"
   ]
  },
  {
   "cell_type": "code",
   "execution_count": 11,
   "id": "694a608c",
   "metadata": {},
   "outputs": [],
   "source": [
    "#dictionaries (Key-Value)\n",
    "#Are mutable(add,modify,remove key-value pairs), Keys are immutable\n",
    "dic = {}\n",
    "#\"Mahmoud\":[23, \"SE\"    , \"cycling\"]\n",
    "#\"Zeinat\" :[20, \"Nurse\" ,\"reading\"]"
   ]
  },
  {
   "cell_type": "code",
   "execution_count": 12,
   "id": "591bd5b8",
   "metadata": {},
   "outputs": [],
   "source": [
    "# dic()\n",
    "dic[\"Mahmoud\"]= [23, \"SE\"    , \"cycling\"]\n",
    "dic[\"Zeinat\"] = [20, \"Nurse\" ,\"reading\"]"
   ]
  },
  {
   "cell_type": "code",
   "execution_count": 13,
   "id": "0c93d0e3",
   "metadata": {},
   "outputs": [
    {
     "data": {
      "text/plain": [
       "{'Mahmoud': [23, 'SE', 'cycling'], 'Zeinat': [20, 'Nurse', 'reading']}"
      ]
     },
     "execution_count": 13,
     "metadata": {},
     "output_type": "execute_result"
    }
   ],
   "source": [
    "dic"
   ]
  },
  {
   "cell_type": "code",
   "execution_count": 14,
   "id": "68ec0e0b",
   "metadata": {},
   "outputs": [
    {
     "name": "stdout",
     "output_type": "stream",
     "text": [
      "Mahmoud: [23, 'SE', 'cycling']\n",
      "Zeinat: [20, 'Nurse', 'reading']\n"
     ]
    }
   ],
   "source": [
    "# Iterating over key-value pairs\n",
    "for key, value in dic.items():\n",
    "    print(f\"{key}: {value}\")"
   ]
  },
  {
   "cell_type": "code",
   "execution_count": 15,
   "id": "a6286380",
   "metadata": {},
   "outputs": [],
   "source": [
    "#Dictionaries Capitols\n",
    "capitols = {\n",
    "    'Beirut' :{'population':2000000,'Center':\"Beirut\"   , \"media_age\":32.5},\n",
    "    'Nicosia':{'population':200000, 'Center':\"Strovolos\", \"media_age\":42.6}\n",
    "}"
   ]
  },
  {
   "cell_type": "code",
   "execution_count": 16,
   "id": "605c66d2",
   "metadata": {},
   "outputs": [
    {
     "name": "stdout",
     "output_type": "stream",
     "text": [
      "{'population': 2000000, 'Center': 'Beirut', 'media_age': 32.5}\n",
      "{'population': 200000, 'Center': 'Strovolos', 'media_age': 42.6}\n"
     ]
    }
   ],
   "source": [
    "capitols['Beirut']['media_age']\n",
    "# Dictionaries are structure like JSON data sets files\n",
    "for c in capitols:\n",
    "    print(capitols[c])"
   ]
  },
  {
   "cell_type": "code",
   "execution_count": 17,
   "id": "9e053bb2",
   "metadata": {},
   "outputs": [
    {
     "name": "stdout",
     "output_type": "stream",
     "text": [
      "Hello, Alice! Welcome to Python programming.\n"
     ]
    }
   ],
   "source": [
    "# Define a function named greet which takes a name as input and prints something\n",
    "def greet(name):\n",
    "    print(f\"Hello, {name}! Welcome to Python programming.\")\n",
    "\n",
    "# Call the function with an argument\n",
    "greet(\"Alice\")\n"
   ]
  },
  {
   "cell_type": "code",
   "execution_count": 18,
   "id": "3d9f842e",
   "metadata": {},
   "outputs": [
    {
     "name": "stdout",
     "output_type": "stream",
     "text": [
      "received numbers 3,2\n",
      "6\n"
     ]
    }
   ],
   "source": [
    "def product(n1,n2):\n",
    "    print(f\"received numbers {n1},{n2}\")\n",
    "    return n1*n2\n",
    "print(product(3,2))"
   ]
  },
  {
   "cell_type": "code",
   "execution_count": 19,
   "id": "69188f15",
   "metadata": {},
   "outputs": [],
   "source": [
    "def languague(name, lang):\n",
    "    if lang == \"Arabic\":\n",
    "        print(f\"Salam {name}\")\n",
    "    elif lang == \"English\":\n",
    "        print(f\"Hello {name}\")\n",
    "    elif lang== \"Spanish\":\n",
    "        print(f\"Hola {name}\")\n",
    "    else:\n",
    "        print(name)"
   ]
  },
  {
   "cell_type": "code",
   "execution_count": 20,
   "id": "1b131424",
   "metadata": {},
   "outputs": [
    {
     "name": "stdout",
     "output_type": "stream",
     "text": [
      "Hello Mohammad\n"
     ]
    }
   ],
   "source": [
    "languague(\"Mohammad\",\"English\")"
   ]
  },
  {
   "cell_type": "code",
   "execution_count": 21,
   "id": "f4bf8008",
   "metadata": {},
   "outputs": [
    {
     "name": "stdout",
     "output_type": "stream",
     "text": [
      "Hello, world!\n",
      "This is line 1.\n",
      "This is line 2.\n",
      "\n"
     ]
    }
   ],
   "source": [
    "#Files in Python \n",
    "\"\"\" \n",
    "(Input/Output or I/O) and \n",
    "explored how to create and utilize functions to make our code more organized and efficient.\n",
    "open(): Function to open a file.\n",
    "• filename.txt: The name of the file\n",
    "you want to open.\n",
    "• mode:\n",
    "• \"r\": Read mode (default)\n",
    "• \"w\": Write mode (overwrites\n",
    "existing content)\n",
    "• \"a\": Append mode (adds to the\n",
    "end of the file)\n",
    "\"\"\"\n",
    "# Using 'with' to open a file and \n",
    "with open('example.txt', 'r') as file:\n",
    "    content = file.read()\n",
    "    print(content)"
   ]
  },
  {
   "cell_type": "code",
   "execution_count": 22,
   "id": "789e152f",
   "metadata": {},
   "outputs": [],
   "source": [
    "# Open a file in write mode\n",
    "file = open('example.txt', 'w')\n",
    "\n",
    "# Write a string to the file\n",
    "file.write(\"Hello, world!\\n\")\n",
    "\n",
    "# Write multiple lines to the file\n",
    "lines = [\"This is line 1.\\n\", \"This is line 2.\\n\"]\n",
    "file.writelines(lines)\n",
    "\n",
    "#Close the file\n",
    "file.close()\n"
   ]
  },
  {
   "cell_type": "code",
   "execution_count": 23,
   "id": "819c0544",
   "metadata": {},
   "outputs": [
    {
     "ename": "FileNotFoundError",
     "evalue": "[Errno 2] No such file or directory: 'data.txt'",
     "output_type": "error",
     "traceback": [
      "\u001b[1;31m---------------------------------------------------------------------------\u001b[0m",
      "\u001b[1;31mFileNotFoundError\u001b[0m                         Traceback (most recent call last)",
      "Cell \u001b[1;32mIn[23], line 2\u001b[0m\n\u001b[0;32m      1\u001b[0m \u001b[38;5;66;03m# Reading from Files\u001b[39;00m\n\u001b[1;32m----> 2\u001b[0m file \u001b[38;5;241m=\u001b[39m \u001b[38;5;28mopen\u001b[39m(\u001b[38;5;124m\"\u001b[39m\u001b[38;5;124mdata.txt\u001b[39m\u001b[38;5;124m\"\u001b[39m, \u001b[38;5;124m\"\u001b[39m\u001b[38;5;124mr\u001b[39m\u001b[38;5;124m\"\u001b[39m) \u001b[38;5;66;03m# Open in read mode\u001b[39;00m\n\u001b[0;32m      3\u001b[0m content \u001b[38;5;241m=\u001b[39m file\u001b[38;5;241m.\u001b[39mread()\n\u001b[0;32m      4\u001b[0m \u001b[38;5;28mprint\u001b[39m(content)\n",
      "File \u001b[1;32m~\\anaconda3\\Lib\\site-packages\\IPython\\core\\interactiveshell.py:286\u001b[0m, in \u001b[0;36m_modified_open\u001b[1;34m(file, *args, **kwargs)\u001b[0m\n\u001b[0;32m    279\u001b[0m \u001b[38;5;28;01mif\u001b[39;00m file \u001b[38;5;129;01min\u001b[39;00m {\u001b[38;5;241m0\u001b[39m, \u001b[38;5;241m1\u001b[39m, \u001b[38;5;241m2\u001b[39m}:\n\u001b[0;32m    280\u001b[0m     \u001b[38;5;28;01mraise\u001b[39;00m \u001b[38;5;167;01mValueError\u001b[39;00m(\n\u001b[0;32m    281\u001b[0m         \u001b[38;5;124mf\u001b[39m\u001b[38;5;124m\"\u001b[39m\u001b[38;5;124mIPython won\u001b[39m\u001b[38;5;124m'\u001b[39m\u001b[38;5;124mt let you open fd=\u001b[39m\u001b[38;5;132;01m{\u001b[39;00mfile\u001b[38;5;132;01m}\u001b[39;00m\u001b[38;5;124m by default \u001b[39m\u001b[38;5;124m\"\u001b[39m\n\u001b[0;32m    282\u001b[0m         \u001b[38;5;124m\"\u001b[39m\u001b[38;5;124mas it is likely to crash IPython. If you know what you are doing, \u001b[39m\u001b[38;5;124m\"\u001b[39m\n\u001b[0;32m    283\u001b[0m         \u001b[38;5;124m\"\u001b[39m\u001b[38;5;124myou can use builtins\u001b[39m\u001b[38;5;124m'\u001b[39m\u001b[38;5;124m open.\u001b[39m\u001b[38;5;124m\"\u001b[39m\n\u001b[0;32m    284\u001b[0m     )\n\u001b[1;32m--> 286\u001b[0m \u001b[38;5;28;01mreturn\u001b[39;00m io_open(file, \u001b[38;5;241m*\u001b[39margs, \u001b[38;5;241m*\u001b[39m\u001b[38;5;241m*\u001b[39mkwargs)\n",
      "\u001b[1;31mFileNotFoundError\u001b[0m: [Errno 2] No such file or directory: 'data.txt'"
     ]
    }
   ],
   "source": [
    "# Reading from Files\n",
    "\"\"\"\n",
    "file = open(\"data.txt\", \"r\") # Open in read mode\n",
    "content = file.read()\n",
    "print(content)\n",
    "file.close() # Close the file\n",
    "\"\"\""
   ]
  },
  {
   "cell_type": "code",
   "execution_count": null,
   "id": "02c87fa6",
   "metadata": {
    "scrolled": true
   },
   "outputs": [],
   "source": [
    "#Reading from Files\n",
    "\"\"\"\n",
    "with open(\"example.txt\", \"r\") as file:\n",
    "    content = file.read()\n",
    "    lines = file.readlines() # Read all lines into a list\n",
    "for line in file: # Iterate over each line\n",
    "    print(line)\n",
    "\"\"\""
   ]
  },
  {
   "cell_type": "code",
   "execution_count": null,
   "id": "b03069dd",
   "metadata": {},
   "outputs": [],
   "source": [
    "# Writing to Files\n",
    "\"\"\"\n",
    "with open(\"output.txt\", \"w\") as file:\n",
    "     file.write(\"Hello, world!\\n\") # Write a string\n",
    " for number in [1, 2, 3]:\n",
    "     file.write(str(number) + \"\\n\") # Write number\n",
    "\"\"\""
   ]
  },
  {
   "cell_type": "code",
   "execution_count": 24,
   "id": "2233358e",
   "metadata": {},
   "outputs": [
    {
     "name": "stdout",
     "output_type": "stream",
     "text": [
      "Part 2 Python Finished\n"
     ]
    }
   ],
   "source": [
    "print(\"Part 2 Python Finished\")"
   ]
  },
  {
   "cell_type": "code",
   "execution_count": null,
   "id": "888c6714",
   "metadata": {},
   "outputs": [],
   "source": []
  }
 ],
 "metadata": {
  "kernelspec": {
   "display_name": "Python 3 (ipykernel)",
   "language": "python",
   "name": "python3"
  },
  "language_info": {
   "codemirror_mode": {
    "name": "ipython",
    "version": 3
   },
   "file_extension": ".py",
   "mimetype": "text/x-python",
   "name": "python",
   "nbconvert_exporter": "python",
   "pygments_lexer": "ipython3",
   "version": "3.11.5"
  }
 },
 "nbformat": 4,
 "nbformat_minor": 5
}
